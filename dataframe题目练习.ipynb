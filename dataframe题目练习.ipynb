{
 "cells": [
  {
   "cell_type": "code",
   "execution_count": 1,
   "metadata": {},
   "outputs": [
    {
     "name": "stdout",
     "output_type": "stream",
     "text": [
      "CSV file 'sample_data.csv' has been created and saved.\n"
     ]
    }
   ],
   "source": [
    "import pandas as pd\n",
    "\n",
    "# 创建数据\n",
    "data = {\n",
    "    'name': ['Alice', 'Bob', 'Charlie', 'David', 'Eve', 'Frank'],\n",
    "    'age': [30, 25, 35, None, 40, 30],\n",
    "    'city': ['New York', None, 'Los Angeles', 'Chicago', 'Houston', 'New York'],\n",
    "    'date_of_birth': ['1990-01-01', '1985-05-12', '1985-05-12', '1970-09-15', '1965-11-30', '1990-01-01'],\n",
    "    'salary': [70000, 80000, 90000, 50000, None, 70000]\n",
    "}\n",
    "\n",
    "# 创建 DataFrame\n",
    "df = pd.DataFrame(data)\n",
    "\n",
    "# 保存为 CSV 文件\n",
    "df.to_csv('sample_data.csv', index=False)\n",
    "\n",
    "# 显示保存的文件路径\n",
    "print(\"CSV file 'sample_data.csv' has been created and saved.\")\n"
   ]
  },
  {
   "cell_type": "code",
   "execution_count": null,
   "metadata": {},
   "outputs": [],
   "source": []
  }
 ],
 "metadata": {
  "kernelspec": {
   "display_name": "Python 3",
   "language": "python",
   "name": "python3"
  },
  "language_info": {
   "codemirror_mode": {
    "name": "ipython",
    "version": 3
   },
   "file_extension": ".py",
   "mimetype": "text/x-python",
   "name": "python",
   "nbconvert_exporter": "python",
   "pygments_lexer": "ipython3",
   "version": "3.8.3"
  }
 },
 "nbformat": 4,
 "nbformat_minor": 4
}
